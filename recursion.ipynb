{
 "cells": [
  {
   "cell_type": "code",
   "execution_count": null,
   "metadata": {},
   "outputs": [],
   "source": [
    "# # # input = \"abc\"\n",
    "# # # output = [\"\",\"a\",\"b\",\"c\",\"ab\",\"ac\",\"bc\",\"abc]\n",
    "\n",
    "\n",
    "\n",
    "# # #            \"\"\n",
    "# # #  a       \"a\"\n",
    "# # #  b      \"ab\" \"b\"\n",
    "# # #  c     \"abc\" \"ac\" \"bc\" \"c\"          \n",
    "\n",
    "# # # result = [\"\"];\n",
    "\n",
    "# # # use for loop and iterate the input string //  i = 0, \"a\"\n",
    "# # #    in for loop copy result  [\"\"]\n",
    "# # #         iterate the copied result array \n",
    "# # #             add current string and push the string to the result array\n",
    "            \n",
    "# # #           [\"\"]\n",
    "          \n",
    "# # #           for(var i = 0; i < input.length; i++) {   // i = 1,  \"b\"\n",
    "# # #             var resultCopy = result.slice(0);  result = [\"c\", \"ac\", \"bc\", \"abc\"];\n",
    "# # #             for(var j = 0; j < resultCopy.length; j++) {  resultCopy[0]=\"\",  resultCopy[1]=\"a\"\n",
    "# # #               var temp = resultCopy[j] + input[i];  \"a\" + \"b\"\n",
    "# # #               result.push(temp);     // result = [\"\", \"a\", \"b\", \"ab\"];\n",
    "# # #             }\n",
    "# # #           }                \n",
    "            \n",
    "# # # }\n",
    "\n",
    "# #  function powerSet(string) {\n",
    "# #    var result = [\"\"];\n",
    "  \n",
    "# #    var helper = function(index) {\n",
    "# #      if(index >= string.length) {\n",
    "# #        return result;\n",
    "# #      } else {\n",
    "# #        var copyResult = result.slice(0);  // index : 0 ,  result = [\"\"]  \"a\"\n",
    "# #        for(var i = 0; i < copyResult.length; i++) {   // i = 0\n",
    "# #          var temp = copyResult[i] + string[index];  //  \"\" + \"a\"\n",
    "# #          result.push(temp);\n",
    "# #        }\n",
    "# #        helper(index + 1);\n",
    "# #      }\n",
    "# #    }\n",
    "# #    helper(0);\n",
    "# #    return result;\n",
    "# #  }"
   ]
  },
  {
   "cell_type": "code",
   "execution_count": null,
   "metadata": {},
   "outputs": [],
   "source": [
    "def powerset(string):\n",
    "   result = [\"\"]\n",
    "   def helper(index):\n",
    "     copyResult = result[:]\n",
    "     if index >= len(string):\n",
    "       return result\n",
    "     for i in range(0,len(copyResult)):  # [\"\", \"a\"]\n",
    "       temp = copyResult[i] + string[index] # \"\" + string[1](\"b\") => \"b\", \"a\"+ \"b\" => \"ab\"\n",
    "       result.append(temp)\n",
    "     helper(index+1)\n",
    "   helper(1)\n",
    "   print(result)\n",
    "   return result;\n",
    "    \n",
    " powerset(\"abc\")\n"
   ]
  },
  {
   "cell_type": "code",
   "execution_count": null,
   "metadata": {},
   "outputs": [],
   "source": []
  }
 ],
 "metadata": {
  "kernelspec": {
   "display_name": "Python 3",
   "language": "python",
   "name": "python3"
  },
  "language_info": {
   "codemirror_mode": {
    "name": "ipython",
    "version": 3
   },
   "file_extension": ".py",
   "mimetype": "text/x-python",
   "name": "python",
   "nbconvert_exporter": "python",
   "pygments_lexer": "ipython3",
   "version": "3.7.3"
  }
 },
 "nbformat": 4,
 "nbformat_minor": 2
}




function powerSet(string) {
  var result = [""];
  
  var helper = function(index) {
    if(index >= string.length) {
      return result;
    } else {
      var copyResult = result.slice(0);  // index : 0 ,  result = [""]  "a"
      for(var i = 0; i < copyResult.length; i++) {   // i = 0
        var temp = copyResult[i] + string[index];  //  "" + "a"
        result.push(temp);
      }
      helper(index + 1);
    }
  }
  helper(0);
  return result;
